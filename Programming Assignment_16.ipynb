{
 "cells": [
  {
   "cell_type": "markdown",
   "id": "e304dc88",
   "metadata": {},
   "source": [
    "## Python Basic Programming Assignment 16\n",
    "---------------------"
   ]
  },
  {
   "cell_type": "markdown",
   "id": "d82eeee0",
   "metadata": {},
   "source": [
    "### 1. Write a function that stutters a word as if someone is struggling to read it. The first two letters are repeated twice with an ellipsis ... and space after each, and then the word is pronounced with a question mark ?. Examples stutter('incredible') ➞ 'in... in... incredible?' stutter('enthusiastic') ➞ 'en... en... enthusiastic?' stutter('outstanding') ➞ 'ou... ou... outstanding?'\n",
    "\n",
    "### Hint :- Assume all input is in lower case and at least two characters long."
   ]
  },
  {
   "cell_type": "code",
   "execution_count": 7,
   "id": "6348fb9a",
   "metadata": {},
   "outputs": [
    {
     "name": "stdout",
     "output_type": "stream",
     "text": [
      "in... in... incredible?\n",
      "en... en... enthusiastic?\n",
      "ou... ou... outstanding?\n",
      "pe... pe... performance?\n",
      "as... as... assignment?\n",
      "re... re... reading?\n"
     ]
    }
   ],
   "source": [
    "def stutter(word):\n",
    "    return \"{}... {}... {}?\".format(word[:2], word[:2], word)\n",
    "\n",
    "print(stutter(\"incredible\"))\n",
    "print(stutter(\"enthusiastic\"))\n",
    "print(stutter(\"outstanding\"))\n",
    "print(stutter(\"performance\"))\n",
    "print(stutter(\"assignment\"))\n",
    "print(stutter(\"reading\"))"
   ]
  },
  {
   "cell_type": "markdown",
   "id": "47e1bd41",
   "metadata": {},
   "source": [
    "\n",
    "### 2. Create a function that takes an angle in radians and returns the corresponding angle in degrees rounded to one decimal place."
   ]
  },
  {
   "cell_type": "code",
   "execution_count": 19,
   "id": "9ddf74a6",
   "metadata": {},
   "outputs": [
    {
     "name": "stdout",
     "output_type": "stream",
     "text": [
      "180.0\n",
      "360.0\n"
     ]
    }
   ],
   "source": [
    "def rad_to_deg(radians):\n",
    "    return round(radians * 180 / 3.14, 1)\n",
    "\n",
    "print(rad_to_deg(3.14))\n",
    "print(rad_to_deg(6.28))"
   ]
  },
  {
   "cell_type": "markdown",
   "id": "07cad4d9",
   "metadata": {},
   "source": [
    "\n",
    "### 3. In this challenge, establish if a given integer num is a Curzon number. If 1 plus 2 elevated to num is exactly divisible by 1 plus 2 multiplied by num, then num is a Curzon number. Given a non-negative integer num, implement a function that returns True if num is a Curzon number, or False otherwise."
   ]
  },
  {
   "cell_type": "code",
   "execution_count": 26,
   "id": "8bfbcb32",
   "metadata": {},
   "outputs": [
    {
     "name": "stdout",
     "output_type": "stream",
     "text": [
      "False\n",
      "True\n"
     ]
    }
   ],
   "source": [
    "def is_curzon(num):\n",
    "    return (1 + 2**num) % (1 + 2*num) == 0\n",
    "\n",
    "print(is_curzon(3))\n",
    "print(is_curzon(14))"
   ]
  },
  {
   "cell_type": "markdown",
   "id": "cfad2cfc",
   "metadata": {},
   "source": [
    "\n",
    "### 4. Given the side length x find the area of a hexagon."
   ]
  },
  {
   "cell_type": "code",
   "execution_count": 28,
   "id": "202f5134",
   "metadata": {},
   "outputs": [],
   "source": [
    "import math"
   ]
  },
  {
   "cell_type": "code",
   "execution_count": 35,
   "id": "5bed4107",
   "metadata": {},
   "outputs": [
    {
     "name": "stdout",
     "output_type": "stream",
     "text": [
      "41.569219381653056\n",
      "259.8076211353316\n"
     ]
    }
   ],
   "source": [
    "def hexagon_area(x):\n",
    "    return (3 * math.sqrt(3) * x**2) / 2\n",
    "\n",
    "print(hexagon_area(4))\n",
    "print(hexagon_area(10))"
   ]
  },
  {
   "cell_type": "markdown",
   "id": "dbc79e02",
   "metadata": {},
   "source": [
    "\n",
    "### 5. Create a function that returns a base-2 (binary) representation of a base-10 (decimal) string number. To convert is simple: ((2) means base-2 and (10) means base-10) 010101001(2) = 1 + 8 + 32 + 128."
   ]
  },
  {
   "cell_type": "code",
   "execution_count": 49,
   "id": "20ce834b",
   "metadata": {},
   "outputs": [
    {
     "name": "stdout",
     "output_type": "stream",
     "text": [
      "1001\n",
      "1100100\n"
     ]
    }
   ],
   "source": [
    "def decimal_to_binary(n):\n",
    "    return bin(n)[2:]\n",
    "\n",
    "print(decimal_to_binary(9))\n",
    "print(decimal_to_binary(100))"
   ]
  },
  {
   "cell_type": "code",
   "execution_count": null,
   "id": "22eb7fc5",
   "metadata": {},
   "outputs": [],
   "source": []
  }
 ],
 "metadata": {
  "kernelspec": {
   "display_name": "Python 3 (ipykernel)",
   "language": "python",
   "name": "python3"
  },
  "language_info": {
   "codemirror_mode": {
    "name": "ipython",
    "version": 3
   },
   "file_extension": ".py",
   "mimetype": "text/x-python",
   "name": "python",
   "nbconvert_exporter": "python",
   "pygments_lexer": "ipython3",
   "version": "3.9.13"
  }
 },
 "nbformat": 4,
 "nbformat_minor": 5
}
